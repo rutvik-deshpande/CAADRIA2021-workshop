{
  "nbformat": 4,
  "nbformat_minor": 0,
  "metadata": {
    "kernelspec": {
      "display_name": "Python 3",
      "language": "python",
      "name": "python3"
    },
    "language_info": {
      "codemirror_mode": {
        "name": "ipython",
        "version": 3
      },
      "file_extension": ".py",
      "mimetype": "text/x-python",
      "name": "python",
      "nbconvert_exporter": "python",
      "pygments_lexer": "ipython3",
      "version": "3.7.8"
    },
    "colab": {
      "name": "day02-ml-notebook.ipynb",
      "provenance": []
    }
  },
  "cells": [
    {
      "cell_type": "markdown",
      "metadata": {
        "id": "dsyLGk6-rNYO"
      },
      "source": [
        "### Setup the google colab notebook"
      ]
    },
    {
      "cell_type": "markdown",
      "metadata": {
        "id": "HSVGFSrxrNYW"
      },
      "source": [
        "#### Go to the URL in another browser and Enter your authorization code in the given cell:"
      ]
    },
    {
      "cell_type": "code",
      "metadata": {
        "id": "oZJXxq_zrNYY",
        "outputId": "fec0b20f-adfe-4a1e-d4a0-cd61fdac829c",
        "colab": {
          "base_uri": "https://localhost:8080/"
        }
      },
      "source": [
        "from google.colab import drive\n",
        "drive.mount('/content/drive')"
      ],
      "execution_count": 1,
      "outputs": [
        {
          "output_type": "stream",
          "text": [
            "Mounted at /content/drive\n"
          ],
          "name": "stdout"
        }
      ]
    },
    {
      "cell_type": "markdown",
      "metadata": {
        "id": "LTNNRzOfrNYc"
      },
      "source": [
        "### Loading the libraries"
      ]
    },
    {
      "cell_type": "code",
      "metadata": {
        "id": "PnihExrJrNYe"
      },
      "source": [
        "import pandas as pd # importing and analysing the data\n",
        "import sklearn # machine learning library\n",
        "from sklearn.model_selection import train_test_split #splitting the dataste\n",
        "from sklearn.linear_model import LinearRegression # Linear Regression ML algorithm\n",
        "from sklearn.ensemble import RandomForestRegressor # Random Forest regression ML algorithm"
      ],
      "execution_count": 2,
      "outputs": []
    },
    {
      "cell_type": "markdown",
      "metadata": {
        "id": "e7QLR_hDrNYh"
      },
      "source": [
        "### Loading the data generated from grasshopper (CSV)"
      ]
    },
    {
      "cell_type": "code",
      "metadata": {
        "id": "L4Es9rwprNYi"
      },
      "source": [
        "data = pd.read_csv('/content/drive/My Drive/Data/data.csv')"
      ],
      "execution_count": 3,
      "outputs": []
    },
    {
      "cell_type": "markdown",
      "metadata": {
        "id": "c2yK76WWrNYj"
      },
      "source": [
        "### Exploring our data"
      ]
    },
    {
      "cell_type": "code",
      "metadata": {
        "id": "a1y-uG_rrNYk",
        "outputId": "82f68f89-c525-4262-eeb7-5d3a2f910ed1",
        "colab": {
          "base_uri": "https://localhost:8080/",
          "height": 402
        }
      },
      "source": [
        "data"
      ],
      "execution_count": 4,
      "outputs": [
        {
          "output_type": "execute_result",
          "data": {
            "text/html": [
              "<div>\n",
              "<style scoped>\n",
              "    .dataframe tbody tr th:only-of-type {\n",
              "        vertical-align: middle;\n",
              "    }\n",
              "\n",
              "    .dataframe tbody tr th {\n",
              "        vertical-align: top;\n",
              "    }\n",
              "\n",
              "    .dataframe thead th {\n",
              "        text-align: right;\n",
              "    }\n",
              "</style>\n",
              "<table border=\"1\" class=\"dataframe\">\n",
              "  <thead>\n",
              "    <tr style=\"text-align: right;\">\n",
              "      <th></th>\n",
              "      <th>width</th>\n",
              "      <th>length</th>\n",
              "      <th>height</th>\n",
              "      <th>WWR</th>\n",
              "      <th>surface_area</th>\n",
              "      <th>volume</th>\n",
              "      <th>Average Daylight Autonomy</th>\n",
              "      <th>Floor_area</th>\n",
              "    </tr>\n",
              "  </thead>\n",
              "  <tbody>\n",
              "    <tr>\n",
              "      <th>0</th>\n",
              "      <td>4</td>\n",
              "      <td>5</td>\n",
              "      <td>4</td>\n",
              "      <td>0.60</td>\n",
              "      <td>52</td>\n",
              "      <td>80</td>\n",
              "      <td>100.000000</td>\n",
              "      <td>20</td>\n",
              "    </tr>\n",
              "    <tr>\n",
              "      <th>1</th>\n",
              "      <td>4</td>\n",
              "      <td>6</td>\n",
              "      <td>4</td>\n",
              "      <td>0.60</td>\n",
              "      <td>56</td>\n",
              "      <td>96</td>\n",
              "      <td>99.729167</td>\n",
              "      <td>24</td>\n",
              "    </tr>\n",
              "    <tr>\n",
              "      <th>2</th>\n",
              "      <td>5</td>\n",
              "      <td>6</td>\n",
              "      <td>3</td>\n",
              "      <td>0.60</td>\n",
              "      <td>56</td>\n",
              "      <td>90</td>\n",
              "      <td>98.691667</td>\n",
              "      <td>30</td>\n",
              "    </tr>\n",
              "    <tr>\n",
              "      <th>3</th>\n",
              "      <td>4</td>\n",
              "      <td>7</td>\n",
              "      <td>3</td>\n",
              "      <td>0.60</td>\n",
              "      <td>56</td>\n",
              "      <td>84</td>\n",
              "      <td>84.562500</td>\n",
              "      <td>28</td>\n",
              "    </tr>\n",
              "    <tr>\n",
              "      <th>4</th>\n",
              "      <td>5</td>\n",
              "      <td>7</td>\n",
              "      <td>3</td>\n",
              "      <td>0.60</td>\n",
              "      <td>60</td>\n",
              "      <td>105</td>\n",
              "      <td>90.807143</td>\n",
              "      <td>35</td>\n",
              "    </tr>\n",
              "    <tr>\n",
              "      <th>...</th>\n",
              "      <td>...</td>\n",
              "      <td>...</td>\n",
              "      <td>...</td>\n",
              "      <td>...</td>\n",
              "      <td>...</td>\n",
              "      <td>...</td>\n",
              "      <td>...</td>\n",
              "      <td>...</td>\n",
              "    </tr>\n",
              "    <tr>\n",
              "      <th>110</th>\n",
              "      <td>5</td>\n",
              "      <td>7</td>\n",
              "      <td>4</td>\n",
              "      <td>0.55</td>\n",
              "      <td>64</td>\n",
              "      <td>140</td>\n",
              "      <td>98.114286</td>\n",
              "      <td>35</td>\n",
              "    </tr>\n",
              "    <tr>\n",
              "      <th>111</th>\n",
              "      <td>3</td>\n",
              "      <td>8</td>\n",
              "      <td>4</td>\n",
              "      <td>0.55</td>\n",
              "      <td>60</td>\n",
              "      <td>96</td>\n",
              "      <td>76.322917</td>\n",
              "      <td>24</td>\n",
              "    </tr>\n",
              "    <tr>\n",
              "      <th>112</th>\n",
              "      <td>4</td>\n",
              "      <td>8</td>\n",
              "      <td>4</td>\n",
              "      <td>0.55</td>\n",
              "      <td>64</td>\n",
              "      <td>128</td>\n",
              "      <td>85.601563</td>\n",
              "      <td>32</td>\n",
              "    </tr>\n",
              "    <tr>\n",
              "      <th>113</th>\n",
              "      <td>5</td>\n",
              "      <td>8</td>\n",
              "      <td>4</td>\n",
              "      <td>0.55</td>\n",
              "      <td>68</td>\n",
              "      <td>160</td>\n",
              "      <td>92.362500</td>\n",
              "      <td>40</td>\n",
              "    </tr>\n",
              "    <tr>\n",
              "      <th>114</th>\n",
              "      <td>3</td>\n",
              "      <td>6</td>\n",
              "      <td>3</td>\n",
              "      <td>0.55</td>\n",
              "      <td>48</td>\n",
              "      <td>54</td>\n",
              "      <td>86.361111</td>\n",
              "      <td>18</td>\n",
              "    </tr>\n",
              "  </tbody>\n",
              "</table>\n",
              "<p>115 rows × 8 columns</p>\n",
              "</div>"
            ],
            "text/plain": [
              "     width  length  height  ...  volume  Average Daylight Autonomy  Floor_area\n",
              "0        4       5       4  ...      80                 100.000000          20\n",
              "1        4       6       4  ...      96                  99.729167          24\n",
              "2        5       6       3  ...      90                  98.691667          30\n",
              "3        4       7       3  ...      84                  84.562500          28\n",
              "4        5       7       3  ...     105                  90.807143          35\n",
              "..     ...     ...     ...  ...     ...                        ...         ...\n",
              "110      5       7       4  ...     140                  98.114286          35\n",
              "111      3       8       4  ...      96                  76.322917          24\n",
              "112      4       8       4  ...     128                  85.601563          32\n",
              "113      5       8       4  ...     160                  92.362500          40\n",
              "114      3       6       3  ...      54                  86.361111          18\n",
              "\n",
              "[115 rows x 8 columns]"
            ]
          },
          "metadata": {
            "tags": []
          },
          "execution_count": 4
        }
      ]
    },
    {
      "cell_type": "code",
      "metadata": {
        "id": "D3icQ3qGrNYn",
        "outputId": "20158330-11e0-46a3-f297-f770e3b6b4ef",
        "colab": {
          "base_uri": "https://localhost:8080/",
          "height": 284
        }
      },
      "source": [
        "data.describe()"
      ],
      "execution_count": 5,
      "outputs": [
        {
          "output_type": "execute_result",
          "data": {
            "text/html": [
              "<div>\n",
              "<style scoped>\n",
              "    .dataframe tbody tr th:only-of-type {\n",
              "        vertical-align: middle;\n",
              "    }\n",
              "\n",
              "    .dataframe tbody tr th {\n",
              "        vertical-align: top;\n",
              "    }\n",
              "\n",
              "    .dataframe thead th {\n",
              "        text-align: right;\n",
              "    }\n",
              "</style>\n",
              "<table border=\"1\" class=\"dataframe\">\n",
              "  <thead>\n",
              "    <tr style=\"text-align: right;\">\n",
              "      <th></th>\n",
              "      <th>width</th>\n",
              "      <th>length</th>\n",
              "      <th>height</th>\n",
              "      <th>WWR</th>\n",
              "      <th>surface_area</th>\n",
              "      <th>volume</th>\n",
              "      <th>Average Daylight Autonomy</th>\n",
              "      <th>Floor_area</th>\n",
              "    </tr>\n",
              "  </thead>\n",
              "  <tbody>\n",
              "    <tr>\n",
              "      <th>count</th>\n",
              "      <td>115.000000</td>\n",
              "      <td>115.000000</td>\n",
              "      <td>115.000000</td>\n",
              "      <td>115.000000</td>\n",
              "      <td>115.000000</td>\n",
              "      <td>115.00000</td>\n",
              "      <td>115.000000</td>\n",
              "      <td>115.000000</td>\n",
              "    </tr>\n",
              "    <tr>\n",
              "      <th>mean</th>\n",
              "      <td>4.260870</td>\n",
              "      <td>7.034783</td>\n",
              "      <td>3.513043</td>\n",
              "      <td>0.715652</td>\n",
              "      <td>59.234783</td>\n",
              "      <td>105.53913</td>\n",
              "      <td>92.103607</td>\n",
              "      <td>30.069565</td>\n",
              "    </tr>\n",
              "    <tr>\n",
              "      <th>std</th>\n",
              "      <td>0.849013</td>\n",
              "      <td>0.907381</td>\n",
              "      <td>0.502017</td>\n",
              "      <td>0.146204</td>\n",
              "      <td>5.579301</td>\n",
              "      <td>30.96809</td>\n",
              "      <td>9.406025</td>\n",
              "      <td>7.726375</td>\n",
              "    </tr>\n",
              "    <tr>\n",
              "      <th>min</th>\n",
              "      <td>3.000000</td>\n",
              "      <td>5.000000</td>\n",
              "      <td>3.000000</td>\n",
              "      <td>0.400000</td>\n",
              "      <td>48.000000</td>\n",
              "      <td>54.00000</td>\n",
              "      <td>61.583333</td>\n",
              "      <td>18.000000</td>\n",
              "    </tr>\n",
              "    <tr>\n",
              "      <th>25%</th>\n",
              "      <td>4.000000</td>\n",
              "      <td>6.000000</td>\n",
              "      <td>3.000000</td>\n",
              "      <td>0.600000</td>\n",
              "      <td>56.000000</td>\n",
              "      <td>84.00000</td>\n",
              "      <td>86.273413</td>\n",
              "      <td>24.000000</td>\n",
              "    </tr>\n",
              "    <tr>\n",
              "      <th>50%</th>\n",
              "      <td>4.000000</td>\n",
              "      <td>7.000000</td>\n",
              "      <td>4.000000</td>\n",
              "      <td>0.750000</td>\n",
              "      <td>60.000000</td>\n",
              "      <td>96.00000</td>\n",
              "      <td>96.300000</td>\n",
              "      <td>30.000000</td>\n",
              "    </tr>\n",
              "    <tr>\n",
              "      <th>75%</th>\n",
              "      <td>5.000000</td>\n",
              "      <td>8.000000</td>\n",
              "      <td>4.000000</td>\n",
              "      <td>0.850000</td>\n",
              "      <td>64.000000</td>\n",
              "      <td>120.00000</td>\n",
              "      <td>99.383928</td>\n",
              "      <td>35.000000</td>\n",
              "    </tr>\n",
              "    <tr>\n",
              "      <th>max</th>\n",
              "      <td>6.000000</td>\n",
              "      <td>9.000000</td>\n",
              "      <td>4.000000</td>\n",
              "      <td>0.900000</td>\n",
              "      <td>76.000000</td>\n",
              "      <td>216.00000</td>\n",
              "      <td>100.000000</td>\n",
              "      <td>54.000000</td>\n",
              "    </tr>\n",
              "  </tbody>\n",
              "</table>\n",
              "</div>"
            ],
            "text/plain": [
              "            width      length  ...  Average Daylight Autonomy  Floor_area\n",
              "count  115.000000  115.000000  ...                 115.000000  115.000000\n",
              "mean     4.260870    7.034783  ...                  92.103607   30.069565\n",
              "std      0.849013    0.907381  ...                   9.406025    7.726375\n",
              "min      3.000000    5.000000  ...                  61.583333   18.000000\n",
              "25%      4.000000    6.000000  ...                  86.273413   24.000000\n",
              "50%      4.000000    7.000000  ...                  96.300000   30.000000\n",
              "75%      5.000000    8.000000  ...                  99.383928   35.000000\n",
              "max      6.000000    9.000000  ...                 100.000000   54.000000\n",
              "\n",
              "[8 rows x 8 columns]"
            ]
          },
          "metadata": {
            "tags": []
          },
          "execution_count": 5
        }
      ]
    },
    {
      "cell_type": "markdown",
      "metadata": {
        "id": "C9fr93NfrNYo"
      },
      "source": [
        "### Seperating input and output variables"
      ]
    },
    {
      "cell_type": "markdown",
      "metadata": {
        "id": "IBRpt98SrNYp"
      },
      "source": [
        "#### Replace Average Daylight Autonomy with your target output variable name "
      ]
    },
    {
      "cell_type": "code",
      "metadata": {
        "id": "DJ358v1RrNYp"
      },
      "source": [
        "y = data['Average Daylight Autonomy'] # data['the name of your output variable']\n",
        "data.drop(['Average Daylight Autonomy'],axis = 1, inplace = True)"
      ],
      "execution_count": 6,
      "outputs": []
    },
    {
      "cell_type": "markdown",
      "metadata": {
        "id": "SuBIxQI_rNYq"
      },
      "source": [
        "### Splitting the data into training and testing data"
      ]
    },
    {
      "cell_type": "code",
      "metadata": {
        "id": "ggY46_aKrNYq"
      },
      "source": [
        "X_train, X_test, y_train, y_test = train_test_split(data, y, test_size=0.25, random_state = 42)"
      ],
      "execution_count": 7,
      "outputs": []
    },
    {
      "cell_type": "markdown",
      "metadata": {
        "id": "U7dfMe0MrNYr"
      },
      "source": [
        "## Linear Regression"
      ]
    },
    {
      "cell_type": "markdown",
      "metadata": {
        "id": "KqiUxSuFrNYs"
      },
      "source": [
        "### Define the ML model"
      ]
    },
    {
      "cell_type": "code",
      "metadata": {
        "scrolled": false,
        "id": "TUmWctsHrNYt"
      },
      "source": [
        "clf = LinearRegression()"
      ],
      "execution_count": 8,
      "outputs": []
    },
    {
      "cell_type": "markdown",
      "metadata": {
        "id": "YC3LVRzprNYu"
      },
      "source": [
        "### Fit the defined model"
      ]
    },
    {
      "cell_type": "code",
      "metadata": {
        "id": "1sRZRr3srNYv",
        "outputId": "cacde259-9348-451e-aff8-d2c62528ae83",
        "colab": {
          "base_uri": "https://localhost:8080/"
        }
      },
      "source": [
        "clf.fit(X_train, y_train)"
      ],
      "execution_count": 9,
      "outputs": [
        {
          "output_type": "execute_result",
          "data": {
            "text/plain": [
              "LinearRegression(copy_X=True, fit_intercept=True, n_jobs=None, normalize=False)"
            ]
          },
          "metadata": {
            "tags": []
          },
          "execution_count": 9
        }
      ]
    },
    {
      "cell_type": "markdown",
      "metadata": {
        "id": "gYoPT-E_rNYw"
      },
      "source": [
        "### Predict the values for testing data\n"
      ]
    },
    {
      "cell_type": "code",
      "metadata": {
        "id": "NzZwqdltrNYw"
      },
      "source": [
        "y_pred = clf.predict(X_test)"
      ],
      "execution_count": 10,
      "outputs": []
    },
    {
      "cell_type": "code",
      "metadata": {
        "id": "_puVElUMrNYx",
        "outputId": "3edc459b-c5bd-439f-beb6-0808961e502d",
        "colab": {
          "base_uri": "https://localhost:8080/"
        }
      },
      "source": [
        "y_pred"
      ],
      "execution_count": 11,
      "outputs": [
        {
          "output_type": "execute_result",
          "data": {
            "text/plain": [
              "array([ 84.67146663,  87.6203997 ,  94.02871341,  94.84638478,\n",
              "        87.97582522,  87.34375995,  99.50935151,  73.13602737,\n",
              "        94.30113302,  78.79712652,  82.80556651,  95.5280047 ,\n",
              "        76.69349967,  90.64681378,  98.66499852, 104.4986075 ,\n",
              "        88.68412676, 101.33729185,  93.64539637, 108.37188924,\n",
              "        90.02027342,  84.67568677,  82.27581305,  85.31960358,\n",
              "        78.89266869,  84.04914641,  90.83794479, 107.03574258,\n",
              "       100.00114519])"
            ]
          },
          "metadata": {
            "tags": []
          },
          "execution_count": 11
        }
      ]
    },
    {
      "cell_type": "markdown",
      "metadata": {
        "id": "JwmOFtndrNYx"
      },
      "source": [
        "### Convert the predicted values to Integers if required"
      ]
    },
    {
      "cell_type": "code",
      "metadata": {
        "id": "RuwClsoarNYy"
      },
      "source": [
        "#y_pred = y_pred.astype('int64')\n",
        "#y_pred"
      ],
      "execution_count": null,
      "outputs": []
    },
    {
      "cell_type": "markdown",
      "metadata": {
        "id": "X0aNKD5rrNYy"
      },
      "source": [
        "### Computing the R^2 error"
      ]
    },
    {
      "cell_type": "code",
      "metadata": {
        "id": "G_11G4H5rNYz",
        "outputId": "bf9444ca-0673-4310-bfa4-bca9d77a4cd1",
        "colab": {
          "base_uri": "https://localhost:8080/"
        }
      },
      "source": [
        "sklearn.metrics.r2_score(y_test, y_pred)"
      ],
      "execution_count": 12,
      "outputs": [
        {
          "output_type": "execute_result",
          "data": {
            "text/plain": [
              "0.7680613436713217"
            ]
          },
          "metadata": {
            "tags": []
          },
          "execution_count": 12
        }
      ]
    },
    {
      "cell_type": "markdown",
      "metadata": {
        "id": "MXGhOdQ2rNYz"
      },
      "source": [
        "### Bonus \n",
        "#### Random Forest Regression"
      ]
    },
    {
      "cell_type": "code",
      "metadata": {
        "id": "-EKz7vocrNY0",
        "outputId": "e4c4ddc6-2d9e-4e35-89b3-451a0f91d542",
        "colab": {
          "base_uri": "https://localhost:8080/"
        }
      },
      "source": [
        "clf = RandomForestRegressor()\n",
        "clf.fit(X_train, y_train)\n",
        "y_pred = clf.predict(X_test)\n",
        "sklearn.metrics.r2_score(y_test, y_pred)"
      ],
      "execution_count": 14,
      "outputs": [
        {
          "output_type": "execute_result",
          "data": {
            "text/plain": [
              "0.7768778765142508"
            ]
          },
          "metadata": {
            "tags": []
          },
          "execution_count": 14
        }
      ]
    },
    {
      "cell_type": "markdown",
      "metadata": {
        "id": "DGGNrjperNY1"
      },
      "source": [
        "### Train the model on the complete dataset"
      ]
    },
    {
      "cell_type": "code",
      "metadata": {
        "id": "s6vj6xVOrNY1",
        "outputId": "d8fc601a-0f85-436f-c377-fbc6108f8c37",
        "colab": {
          "base_uri": "https://localhost:8080/"
        }
      },
      "source": [
        "clf = LinearRegression()\n",
        "clf.fit(data, y)"
      ],
      "execution_count": 15,
      "outputs": [
        {
          "output_type": "execute_result",
          "data": {
            "text/plain": [
              "LinearRegression(copy_X=True, fit_intercept=True, n_jobs=None, normalize=False)"
            ]
          },
          "metadata": {
            "tags": []
          },
          "execution_count": 15
        }
      ]
    },
    {
      "cell_type": "markdown",
      "metadata": {
        "id": "uP-il-sTrNY2"
      },
      "source": [
        "### Exporting the trained model with m2cgen library"
      ]
    },
    {
      "cell_type": "code",
      "metadata": {
        "id": "ICefMMgjrNY2",
        "outputId": "44e18348-711b-49fa-d58a-b4ead2e2f632",
        "colab": {
          "base_uri": "https://localhost:8080/"
        }
      },
      "source": [
        "pip install m2cgen"
      ],
      "execution_count": 18,
      "outputs": [
        {
          "output_type": "stream",
          "text": [
            "Requirement already satisfied: m2cgen in /usr/local/lib/python3.7/dist-packages (0.9.0)\n",
            "Requirement already satisfied: numpy in /usr/local/lib/python3.7/dist-packages (from m2cgen) (1.19.5)\n"
          ],
          "name": "stdout"
        }
      ]
    },
    {
      "cell_type": "code",
      "metadata": {
        "id": "5V06wY82sxNP"
      },
      "source": [
        "import m2cgen as m2c"
      ],
      "execution_count": 22,
      "outputs": []
    },
    {
      "cell_type": "markdown",
      "metadata": {
        "id": "4rTCpW7nzHxz"
      },
      "source": [
        "### Converting Linear Regression Model from python to javascript language"
      ]
    },
    {
      "cell_type": "markdown",
      "metadata": {
        "id": "xpIeNoD2zPjq"
      },
      "source": [
        "#### Copy the the output text generated"
      ]
    },
    {
      "cell_type": "code",
      "metadata": {
        "id": "-gdM6k3Fsdx3",
        "outputId": "8849a96f-65c9-4278-d47c-fa5d460fdd1c",
        "colab": {
          "base_uri": "https://localhost:8080/",
          "height": 53
        }
      },
      "source": [
        "export_code = m2c.export_to_javascript(clf)\n",
        "export_code"
      ],
      "execution_count": 24,
      "outputs": [
        {
          "output_type": "execute_result",
          "data": {
            "application/vnd.google.colaboratory.intrinsic+json": {
              "type": "string"
            },
            "text/plain": [
              "'function score(input) {\\n    return (((((((123.04815643509974) + ((input[0]) * (-1.7912119448124557))) + ((input[1]) * (-7.586384359195664))) + ((input[2]) * (9.103695642971909))) + ((input[3]) * (28.430940763927932))) + ((input[4]) * (-1.0956026441449065))) + ((input[5]) * (0.16445800900941077))) + ((input[6]) * (0.8403454425815178));\\n}\\n'"
            ]
          },
          "metadata": {
            "tags": []
          },
          "execution_count": 24
        }
      ]
    },
    {
      "cell_type": "markdown",
      "metadata": {
        "id": "C7mfPbwDzaff"
      },
      "source": [
        "### Try the ML model, trained on the complete dataset"
      ]
    },
    {
      "cell_type": "code",
      "metadata": {
        "id": "r6e3E3zSsuOw"
      },
      "source": [
        "y_pred = clf.predict([[4, 7, 4, 0.6, 60, 112, 28]]) # Add in your input parameters in [[...]]"
      ],
      "execution_count": 27,
      "outputs": []
    },
    {
      "cell_type": "code",
      "metadata": {
        "id": "p-UAKzZ4xPxJ",
        "outputId": "ccc55446-3745-4ceb-ca5b-48016476f76f",
        "colab": {
          "base_uri": "https://localhost:8080/"
        }
      },
      "source": [
        "y_pred"
      ],
      "execution_count": 28,
      "outputs": [
        {
          "output_type": "execute_result",
          "data": {
            "text/plain": [
              "array([92.46477592])"
            ]
          },
          "metadata": {
            "tags": []
          },
          "execution_count": 28
        }
      ]
    }
  ]
}